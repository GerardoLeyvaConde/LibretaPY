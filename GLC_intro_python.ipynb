{
  "cells": [
    {
      "cell_type": "markdown",
      "metadata": {
        "id": "xTY62IR9L4Li"
      },
      "source": [
        "<a href=\"https://colab.research.google.com/github/mcd-unison/material-programacion/blob/main/intro-python.ipynb\" target=\"_parent\"><img src=\"https://colab.research.google.com/assets/colab-badge.svg\" alt=\"Open In Colab\"/></a>"
      ]
    },
    {
      "cell_type": "markdown",
      "metadata": {
        "id": "MLUYXXETL4Lk"
      },
      "source": [
        "<center>\n",
        "<p><img src=\"https://mcd.unison.mx/wp-content/themes/awaken/img/logo_mcd.png\" width=\"100\">\n",
        "</p>\n",
        "\n",
        "\n",
        "\n",
        "# Curso Propedéutico en *Programación*\n",
        "\n",
        "## Introducción a `python` resolviendo preguntas\n",
        "\n",
        "\n",
        "**Julio Waissman Vilanova**\n",
        "\n"
      ]
    },
    {
      "cell_type": "markdown",
      "metadata": {
        "id": "-9xobIykL4Lk"
      },
      "source": [
        "### Tipos\n",
        "\n",
        "¿Cuales son los tipos de datos básicos? Revisa los tipos siguientes:\n",
        "\n",
        "1. Tipos numéricos `int`, `float`, `complex`\n",
        "2. Cadenas de caracteres\n",
        "3. Tuplas\n",
        "4. Listas\n",
        "5. Diccionarios\n",
        "6. Conjuntos\n",
        "\n",
        "Da ejemplo de sobrecarga de operadores (en particular `+` y `*`)\n",
        "\n"
      ]
    },
    {
      "cell_type": "code",
      "execution_count": 1,
      "metadata": {
        "id": "Cco3tXyGL4Lk",
        "colab": {
          "base_uri": "https://localhost:8080/",
          "height": 35
        },
        "outputId": "9fe6412d-cd18-4daf-92d9-24c921720d2f"
      },
      "outputs": [
        {
          "output_type": "execute_result",
          "data": {
            "text/plain": [
              "'aaaaa'"
            ],
            "application/vnd.google.colaboratory.intrinsic+json": {
              "type": "string"
            }
          },
          "metadata": {},
          "execution_count": 1
        }
      ],
      "source": [
        "\"a\"*5"
      ]
    },
    {
      "cell_type": "markdown",
      "metadata": {
        "id": "ZiqA-yl9L4Ll"
      },
      "source": [
        "¿Que significa que unos tipos sean *mutables* y otros *inmutables*?\n",
        "\n",
        "Realiza un pequeño programa donde quede claro lo que significa que un tipo de datos sea mutable, e ilustra el uso del método `copy.deepcopy()`."
      ]
    },
    {
      "cell_type": "code",
      "execution_count": 2,
      "metadata": {
        "id": "naaJm6tqL4Ll",
        "colab": {
          "base_uri": "https://localhost:8080/"
        },
        "outputId": "bb7483e2-c7af-4194-846e-20d494752923"
      },
      "outputs": [
        {
          "output_type": "stream",
          "name": "stdout",
          "text": [
            "Lista x: [1, 2, 3, 4, 5, 6] \n",
            " \b Lista y: [1, 2, 3, 4, 5]\n"
          ]
        }
      ],
      "source": [
        "import copy\n",
        "x=[1,2,3,4,5]\n",
        "\n",
        "def agregarElemento(lista):\n",
        "  lista_copia=copy.deepcopy(lista)\n",
        "  lista.append(lista[-1]+1)\n",
        "  return lista_copia\n",
        "\n",
        "y=agregarElemento(x)\n",
        "print(f'Lista x: {x} \\n \\b Lista y: {y}')"
      ]
    },
    {
      "cell_type": "markdown",
      "metadata": {
        "id": "fJMMX9xhL4Ll"
      },
      "source": [
        "### *Comprehension* de listas, conjuntos y diccionarios\n",
        "\n",
        "Escribe, en una sola linea, una expresión que genere una lista con todos los números enteros que se encuentran entre $1$ y $n$\n",
        "que sean divisibles por $3$ y $7$ y que el dígito menos significativo del número sea $6$."
      ]
    },
    {
      "cell_type": "code",
      "execution_count": 3,
      "metadata": {
        "id": "6P9eQ0taL4Ll",
        "colab": {
          "base_uri": "https://localhost:8080/"
        },
        "outputId": "72dd63a2-0641-4307-e94f-c01c89156f92"
      },
      "outputs": [
        {
          "output_type": "execute_result",
          "data": {
            "text/plain": [
              "[126,\n",
              " 336,\n",
              " 546,\n",
              " 756,\n",
              " 966,\n",
              " 1176,\n",
              " 1386,\n",
              " 1596,\n",
              " 1806,\n",
              " 2016,\n",
              " 2226,\n",
              " 2436,\n",
              " 2646,\n",
              " 2856,\n",
              " 3066,\n",
              " 3276,\n",
              " 3486,\n",
              " 3696,\n",
              " 3906,\n",
              " 4116,\n",
              " 4326,\n",
              " 4536,\n",
              " 4746,\n",
              " 4956,\n",
              " 5166,\n",
              " 5376,\n",
              " 5586,\n",
              " 5796,\n",
              " 6006,\n",
              " 6216,\n",
              " 6426,\n",
              " 6636,\n",
              " 6846,\n",
              " 7056,\n",
              " 7266,\n",
              " 7476,\n",
              " 7686,\n",
              " 7896,\n",
              " 8106,\n",
              " 8316,\n",
              " 8526,\n",
              " 8736,\n",
              " 8946,\n",
              " 9156,\n",
              " 9366,\n",
              " 9576,\n",
              " 9786,\n",
              " 9996]"
            ]
          },
          "metadata": {},
          "execution_count": 3
        }
      ],
      "source": [
        "n = 10_000\n",
        "\n",
        "# Escribe aqui el *one linner*\n",
        "resultado = [\n",
        "    x\n",
        "    for x in range(1, n+1)\n",
        "    if x % 3 == 0 and x % 7 == 0 and x % 10 == 6\n",
        "]\n",
        "resultado"
      ]
    },
    {
      "cell_type": "markdown",
      "metadata": {
        "id": "0db5ZZrmL4Ll"
      },
      "source": [
        "### Funciones\n",
        "\n",
        "Escribe una función que:\n",
        "\n",
        "1. reciba una lista de elementos (letras, números, lo que sea),\n",
        "2. cuente la ocurrencia de cada elemento en la lista,\n",
        "3. devuelva las ocurrencias en forma de diccionario,\n",
        "4. si imprime es True, imprima un histograma de ocurrencias, por ejemplo:\n",
        "\n",
        "```python\n",
        "\n",
        "lista = [1,'a',1, 13, 'hola', 'a', 1, 1, 'a', 1]\n",
        "\n",
        "d = funcion_ejemplo(lista, imprime = True)\n",
        "\n",
        "1    \t\t***** \t(5 -> 50%)\n",
        "'a'  \t\t***   \t(3 -> 30%)\n",
        "13\t\t*\t(1 -> 10%)\n",
        "'hola'\t\t*\t(1 -> 10%)\n",
        "\n",
        "```"
      ]
    },
    {
      "cell_type": "code",
      "execution_count": 4,
      "metadata": {
        "id": "Cp99qnCqL4Lm"
      },
      "outputs": [],
      "source": [
        "# Escribe la función aquí\n",
        "def funcion_ejemplo(lista, imprime=False):\n",
        "  resultado = {\n",
        "      str(x): lista.count(x)\n",
        "      for x in set(lista)\n",
        "  }\n",
        "\n",
        "  if imprime:\n",
        "    for key, value in resultado.items():\n",
        "      print(f'{key:10} {\"*\"*value:10} ({value} -> {int(value*100/len(lista))}%)')\n",
        "  return resultado"
      ]
    },
    {
      "cell_type": "code",
      "execution_count": 5,
      "metadata": {
        "id": "zLAtvCwwL4Lm",
        "colab": {
          "base_uri": "https://localhost:8080/"
        },
        "outputId": "98cc3d04-4eb4-4268-a1a9-a79137881c90"
      },
      "outputs": [
        {
          "output_type": "stream",
          "name": "stdout",
          "text": [
            "1          *****      (5 -> 50%)\n",
            "13         *          (1 -> 10%)\n",
            "a          ***        (3 -> 30%)\n",
            "hola       *          (1 -> 10%)\n",
            "{'1': 5, '13': 1, 'a': 3, 'hola': 1}\n"
          ]
        }
      ],
      "source": [
        "# Realiza pruebas aquí\n",
        "lista = [1,'a',1, 13, 'hola', 'a', 1, 1, 'a', 1]\n",
        "d = funcion_ejemplo(lista, imprime = True)\n",
        "print(d)"
      ]
    },
    {
      "cell_type": "markdown",
      "metadata": {
        "id": "xTx9mkNcL4Lm"
      },
      "source": [
        "Escribe una función que modifique un diccionario y regrese el diccionario modificado y una copia del original, donde cada entrada\n",
        "del diccionario sea una lista de valores. Ten en cuenta que si una entrada del diccionario es de tipo mutable, al modificarlo en la\n",
        "copia se modifica el original. Utiliza el modulo `copy` para evitar este problema. Ejemplo de la función:\n",
        "\n",
        "```python\n",
        "dic1 = {'Pepe':[12, 'enero', 1980], 'Carolina':[15,'mayo',1975],'Paco':[10,'nov',1970]}\n",
        "dic2 = fundicos(dic1, 'Pepe', 1, 'febrero')\n",
        "\n",
        "print(dic1)\n",
        "{'Pepe':[12, 'enero', 1980], 'Carolina':[15,'mayo',1975],'Paco':[10,'nov',1970]}\n",
        "\n",
        "print(dic2)\n",
        "{'Pepe':[12, 'febrero', 1980], 'Carolina':[15,'mayo',1975],'Paco':[10,'nov',1970]}\n",
        "```"
      ]
    },
    {
      "cell_type": "code",
      "execution_count": 6,
      "metadata": {
        "id": "rKhQdv78L4Lm"
      },
      "outputs": [],
      "source": [
        "# Escribe la función fundicos aquí\n",
        "def fundicos(dic, key, index, value):\n",
        "  dic_modificado=copy.deepcopy(dic)\n",
        "  dic_modificado[key][index] = value\n",
        "\n",
        "  return dic_modificado"
      ]
    },
    {
      "cell_type": "code",
      "execution_count": 7,
      "metadata": {
        "id": "5W4w8y5gL4Lm",
        "colab": {
          "base_uri": "https://localhost:8080/"
        },
        "outputId": "55445915-ce89-4640-cb8c-8ae0b34abe29"
      },
      "outputs": [
        {
          "output_type": "stream",
          "name": "stdout",
          "text": [
            "{'Pepe': [12, 'enero', 1980], 'Carolina': [15, 'mayo', 1975], 'Paco': [10, 'nov', 1970]}\n",
            "{'Pepe': [12, 'febrero', 1980], 'Carolina': [15, 'mayo', 1975], 'Paco': [10, 'nov', 1970]}\n"
          ]
        }
      ],
      "source": [
        "# Realiza pruebas de fundicos aquí\n",
        "dic1 = {'Pepe':[12, 'enero', 1980], 'Carolina':[15,'mayo',1975],'Paco':[10,'nov',1970]}\n",
        "dic2 = fundicos(dic1, 'Pepe', 1, 'febrero')\n",
        "\n",
        "print(dic1)\n",
        "print(dic2)"
      ]
    },
    {
      "cell_type": "markdown",
      "metadata": {
        "id": "wsmQSGrjL4Lm"
      },
      "source": [
        "### Generadores\n",
        "\n",
        "Escribe un generador que reciba una lista y genere todas las permutaciones que se puedan hacer con los elementos de la lista"
      ]
    },
    {
      "cell_type": "code",
      "execution_count": 8,
      "metadata": {
        "id": "aL7arq5DL4Lm"
      },
      "outputs": [],
      "source": [
        "# Escribe aqui fun1\n",
        "def permutaciones(lista):\n",
        "    \"\"\"\n",
        "    Permutaciones de los elementos de una lista.\n",
        "\n",
        "    Devuelve un generador con todas las permutaciones posibles de los elementos de la lista de entrada\n",
        "    \"\"\"\n",
        "    #TODO: Implementar la función\n",
        "    if len(lista) == 0:\n",
        "      yield lista\n",
        "    else:\n",
        "      for i, elemento in enumerate(lista):\n",
        "        lista_sin_elemento=lista[:i]+lista[i+1:]\n",
        "        for perm in permutaciones(lista_sin_elemento):\n",
        "          yield [elemento] + perm"
      ]
    },
    {
      "cell_type": "code",
      "execution_count": 9,
      "metadata": {
        "id": "odKyfyE9L4Lm",
        "colab": {
          "base_uri": "https://localhost:8080/"
        },
        "outputId": "528e2b58-9dd7-423f-fe86-dd6613772499"
      },
      "outputs": [
        {
          "output_type": "stream",
          "name": "stdout",
          "text": [
            "['a', 'b', 'c', 'd']\n",
            "['a', 'b', 'd', 'c']\n",
            "['a', 'c', 'b', 'd']\n",
            "['a', 'c', 'd', 'b']\n",
            "['a', 'd', 'b', 'c']\n",
            "['a', 'd', 'c', 'b']\n",
            "['b', 'a', 'c', 'd']\n",
            "['b', 'a', 'd', 'c']\n",
            "['b', 'c', 'a', 'd']\n",
            "['b', 'c', 'd', 'a']\n",
            "['b', 'd', 'a', 'c']\n",
            "['b', 'd', 'c', 'a']\n",
            "['c', 'a', 'b', 'd']\n",
            "['c', 'a', 'd', 'b']\n",
            "['c', 'b', 'a', 'd']\n",
            "['c', 'b', 'd', 'a']\n",
            "['c', 'd', 'a', 'b']\n",
            "['c', 'd', 'b', 'a']\n",
            "['d', 'a', 'b', 'c']\n",
            "['d', 'a', 'c', 'b']\n",
            "['d', 'b', 'a', 'c']\n",
            "['d', 'b', 'c', 'a']\n",
            "['d', 'c', 'a', 'b']\n",
            "['d', 'c', 'b', 'a']\n"
          ]
        }
      ],
      "source": [
        "# Realiza pruebas de fun2 aquí\n",
        "for p in permutaciones(['a', 'b', 'c', 'd']):\n",
        "    print(p)"
      ]
    },
    {
      "cell_type": "markdown",
      "metadata": {
        "id": "HMFXD26lL4Lm"
      },
      "source": [
        "Ahora escribe una funcion que reciba 4 digitos del 0 al 9, y devuelva una lista con todas las horas váidas que se puedan hacer con estos dígitos en forma de lista de strings con la forma `\"HH:MM\"`."
      ]
    },
    {
      "cell_type": "code",
      "execution_count": 10,
      "metadata": {
        "id": "hZs14TpZL4Lm"
      },
      "outputs": [],
      "source": [
        "def horas_validas(lista):\n",
        "    \"\"\"\n",
        "    Funcion que recibe una lista de 4 digitos y retorna todas las combinaciones\n",
        "    validas de horas (en formato de 24 horas) que se pueden generar en formato HH:MM\n",
        "\n",
        "    Devuelve una lista de strings\n",
        "    \"\"\"\n",
        "    #TODO: Implementar la función\n",
        "    total_l=len(lista)\n",
        "    if total_l == 0:\n",
        "      yield ''\n",
        "    else:\n",
        "      for i, elemento in enumerate(lista):\n",
        "        lista_sin_elemento=lista[:i]+lista[i+1:]\n",
        "        for perm in horas_validas(lista_sin_elemento):\n",
        "          #print(f'{i}: {lista_sin_elemento}')\n",
        "          if total_l==4 and elemento > 2:\n",
        "            continue\n",
        "          elif total_l==3 and elemento > 4:\n",
        "            continue\n",
        "          elif total_l == 2 and elemento > 5:\n",
        "            continue\n",
        "          elif total_l == 3:\n",
        "            yield str(elemento) + ':' + perm\n",
        "          else:\n",
        "            yield str(elemento) + perm"
      ]
    },
    {
      "cell_type": "markdown",
      "metadata": {
        "id": "zc_VVksDL4Lm"
      },
      "source": [
        "Validando:"
      ]
    },
    {
      "cell_type": "code",
      "execution_count": 11,
      "metadata": {
        "id": "b99zuPANL4Ln",
        "colab": {
          "base_uri": "https://localhost:8080/"
        },
        "outputId": "99ad32f0-0299-4a95-c4ad-eb5c451c1518"
      },
      "outputs": [
        {
          "output_type": "stream",
          "name": "stdout",
          "text": [
            "<generator object horas_validas at 0x7ce459140580>\n",
            "12:37\n",
            "13:27\n",
            "21:37\n",
            "23:17\n"
          ]
        }
      ],
      "source": [
        "print(horas_validas([1,2,3,7]))\n",
        "for p in horas_validas([1,2,3,7]):\n",
        "    print(p)"
      ]
    },
    {
      "cell_type": "markdown",
      "metadata": {
        "id": "0jnSkCosL4Ln"
      },
      "source": [
        "Escribe una función, lo más compacta posible, que escoja entre los 3 patrones ascii a continuación, e imprima en pantalla\n",
        "el deseado, pero de dimensión $n$ ($n \\ge 4$), toma en cuanta que para algunos valores de $n$ habrá\n",
        "algún(os) patrones que no se puedan hacer.\n",
        "\n",
        "```\n",
        "          *             ++++           oooooooo\n",
        "          **            ++++           ooo  ooo\n",
        "          ***           ++++           oo    oo\n",
        "          ****          ++++           o      o\n",
        "          *****             ++++       o      o\n",
        "          ******            ++++       oo    oo\n",
        "          *******           ++++       ooo  ooo\n",
        "          ********          ++++       oooooooo\n",
        "\n",
        "```"
      ]
    },
    {
      "cell_type": "code",
      "execution_count": 12,
      "metadata": {
        "id": "HEGX41U_L4Ln"
      },
      "outputs": [],
      "source": [
        "# Escribe aquí la función\n",
        "def imprimeFigura(n, tipo=1):\n",
        "  if n < 4:\n",
        "      n=4\n",
        "  if tipo==1:\n",
        "    rango=range(1, n+1)\n",
        "    for i in rango:\n",
        "      print(f'{\"*\"*i}')\n",
        "  elif tipo==2:\n",
        "    rango=range(1, n + 1)\n",
        "    mitad=int((n + 1)/2)\n",
        "    for i in rango:\n",
        "      print(f'{\" \"*mitad}{\"+\"*mitad}') if i > mitad else print(f'{\"+\"*mitad}')\n",
        "  elif tipo==3:\n",
        "    mitad=int((n + 1)/2)\n",
        "    for i in range(mitad):\n",
        "      print(f'{\"o\"*(mitad - i)}{\" \"*(2*i)}{\"o\"*(mitad - i)}')\n",
        "    for i in range(mitad):\n",
        "      print(f'{\"o\"*(i+1)}{\" \"*(2*(mitad - i - 1))}{\"o\"*(i+1)}')"
      ]
    },
    {
      "cell_type": "code",
      "execution_count": 13,
      "metadata": {
        "id": "PAX6dywEL4Ln",
        "colab": {
          "base_uri": "https://localhost:8080/"
        },
        "outputId": "4edf9b11-73ea-46eb-ca98-186a8f99f811"
      },
      "outputs": [
        {
          "output_type": "stream",
          "name": "stdout",
          "text": [
            "*\n",
            "**\n",
            "***\n",
            "****\n",
            "*****\n",
            "******\n",
            "*******\n",
            "********\n",
            "++++\n",
            "++++\n",
            "++++\n",
            "++++\n",
            "    ++++\n",
            "    ++++\n",
            "    ++++\n",
            "    ++++\n",
            "oooooooo\n",
            "ooo  ooo\n",
            "oo    oo\n",
            "o      o\n",
            "o      o\n",
            "oo    oo\n",
            "ooo  ooo\n",
            "oooooooo\n"
          ]
        }
      ],
      "source": [
        "#Realiza pruebas aquí\n",
        "imprimeFigura(8, 1)\n",
        "imprimeFigura(8, 2)\n",
        "imprimeFigura(8, 3)"
      ]
    },
    {
      "cell_type": "markdown",
      "metadata": {
        "id": "r1SN2UxRL4Ln"
      },
      "source": [
        "### Clases y objetos\n",
        "\n",
        "Diseña una clase Matriz con las siguientes características:\n",
        "\n",
        "1. Como inicialización de un objeto es necesario conocer $n$, $m$ y tipo. En caso de no proporcionar $m$ la matriz se asume cuadrada de $n \\times n$. En caso de no proporcionar $n$ la matriz tendrá una dimensión de $1 \\times 1$.\n",
        "2. De no especificarse todos los elementos se inicializan a 0, a menos que exista un tipo especial ( `unos` o `diag` por el momento).\n",
        "3. Implementa con sobrecarga la suma de matrices, la multiplicación de matrices y la multiplicación por un escalar.\n",
        "4. Implementa como métodos eliminar columna y eliminar fila.   \n",
        "5. Programa la representación visual de la matriz.\n",
        "6. Ten en cuenta tambien el manejo de errores.\n",
        "\n",
        "\n",
        "Ejemplo de uso:\n",
        "\n",
        "```\n",
        ">>> A = Matriz(n=3, m=4)\n",
        "\n",
        ">>> print(A)\n",
        "0 0 0 0\n",
        "0 0 0 0\n",
        "0 0 0 0\n",
        "\n",
        ">>> A = A.quitafila(2)\n",
        "\n",
        ">>> print(A)\n",
        "0 0 0 0\n",
        "0 0 0 0\n",
        "\n",
        ">>> B = Matriz(4,4,'diag')\n",
        "\n",
        ">>> print(B)\n",
        "1 0 0 0\n",
        "0 1 0 0\n",
        "0 0 1 0\n",
        "0 0 0 1\n",
        "\n",
        ">>> C = Matriz(4,1,'unos')\n",
        "\n",
        ">>> print(C)\n",
        "1\n",
        "1\n",
        "1\n",
        "1\n",
        "\n",
        ">>> D = 3 * B * C\n",
        "\n",
        ">>> print(D)\n",
        "3\n",
        "3\n",
        "3\n",
        "3\n",
        "\n",
        ">>> E = 3 * B + C\n",
        "error \"No seas menso, si no son de la misma dimensión las matrices no se pueden sumar\"\n",
        "```"
      ]
    },
    {
      "cell_type": "code",
      "execution_count": 14,
      "metadata": {
        "id": "nEdK1_B8L4Ln"
      },
      "outputs": [],
      "source": [
        "# Desarrolla aqui la clase\n",
        "class Matriz:\n",
        "  def __init__ (self, n = 1, m=None, tipo=None):\n",
        "    if m is None:\n",
        "      m=n\n",
        "    self.rows=n\n",
        "    self.cols=m\n",
        "    self.matriz = []\n",
        "    for i in range(n):\n",
        "      if tipo=='unos':\n",
        "        self.matriz.append([1]*m)\n",
        "      else:\n",
        "        self.matriz.append([0]*m)\n",
        "\n",
        "    if tipo=='diag':\n",
        "      for i in range(n):\n",
        "        self.matriz[i][i]=1\n",
        "\n",
        "  def __str__ (self):\n",
        "    return '\\n'.join(['\\t'.join(map(str, row)) for row in self.matriz])\n",
        "\n",
        "  def __mul__(self, k):\n",
        "    try:\n",
        "        if isinstance(k, (int, float)):\n",
        "          self.matriz = [[x * k for x in row] for row in self.matriz]\n",
        "          return self\n",
        "        elif isinstance(k, Matriz):\n",
        "          if self.cols != k.rows:\n",
        "              raise ValueError(f\"Las dimensiones de las matrices no son compatibles para la multiplicación ({self.rows}x{self.cols})*({k.rows}x{k.cols})\")\n",
        "          self.matriz = [[sum(a*b for a,b in zip(row_a, row_b)) for row_b in zip(*k.matriz)] for row_a in self.matriz]\n",
        "          self.cols = k.rows\n",
        "          return self\n",
        "        else:\n",
        "          raise ValueError(\"Operación de multiplicación no válida\")\n",
        "    except ValueError as error:\n",
        "      raise error\n",
        "\n",
        "    # Sobrecarga del operador de multiplicación para el caso inverso (3 * A)\n",
        "  def __rmul__(self, constante):\n",
        "        return self.__mul__(constante)\n",
        "\n",
        "  def __add__ (self, k):\n",
        "    try:\n",
        "      print(type(k))\n",
        "      if self.rows != k.rows or self.cols != k.cols:\n",
        "        return ValueError(f\"Las dimensiones de las matrices no son compatibles para la suma ({self.rows}x{self.cols})+({k.rows}x{k.cols})\")\n",
        "\n",
        "      self.matriz = [[(a+b for a,b in zip(row_a, row_b)) for row_b in zip(*k.matriz)] for row_a in self.matriz]\n",
        "      return self\n",
        "    except ValueError as error:\n",
        "      raise ValueError(\"Operación de suma no válida. Las matrices deben de ser de la misma dimension\")\n",
        "\n",
        "  def quitafila(self, fila):\n",
        "    self.matriz.remove(self.matriz[fila-1])\n",
        "    return self"
      ]
    },
    {
      "cell_type": "code",
      "execution_count": 15,
      "metadata": {
        "id": "CodwWmkrL4Ln",
        "colab": {
          "base_uri": "https://localhost:8080/"
        },
        "outputId": "d2344c37-5997-4412-f96d-7a254dba5ccc"
      },
      "outputs": [
        {
          "output_type": "stream",
          "name": "stdout",
          "text": [
            "A = 0\t0\t0\t0\n",
            "0\t0\t0\t0\n",
            "0\t0\t0\t0\n",
            "A =  0\t0\t0\t0\n",
            "0\t0\t0\t0\n",
            "B =  1\t0\t0\t0\n",
            "0\t1\t0\t0\n",
            "0\t0\t1\t0\n",
            "0\t0\t0\t1\n",
            "C = 1\n",
            "1\n",
            "1\n",
            "1\n",
            "D =  3\n",
            "3\n",
            "3\n",
            "3\n",
            "<class '__main__.Matriz'>\n",
            "E =  Las dimensiones de las matrices no son compatibles para la suma (4x4)+(4x1)\n"
          ]
        }
      ],
      "source": [
        "# Realiza las pruebas a la clase aquí\n",
        "A = Matriz(n=3, m=4)\n",
        "print('A =', A)\n",
        "\n",
        "A = A.quitafila(2)\n",
        "print('A = ', A)\n",
        "\n",
        "B = Matriz(4,4,'diag')\n",
        "print('B = ', B)\n",
        "\n",
        "C = Matriz(4,1,'unos')\n",
        "print('C =', C)\n",
        "\n",
        "D = 3 * B * C\n",
        "print('D = ', D)\n",
        "\n",
        "E = 3 * B + C\n",
        "print('E = ', E)"
      ]
    },
    {
      "cell_type": "code",
      "source": [],
      "metadata": {
        "id": "xcOPZslL-iwe"
      },
      "execution_count": 15,
      "outputs": []
    }
  ],
  "metadata": {
    "kernelspec": {
      "display_name": "ing-caract",
      "language": "python",
      "name": "python3"
    },
    "language_info": {
      "codemirror_mode": {
        "name": "ipython",
        "version": 3
      },
      "file_extension": ".py",
      "mimetype": "text/x-python",
      "name": "python",
      "nbconvert_exporter": "python",
      "pygments_lexer": "ipython3",
      "version": "3.8.13"
    },
    "orig_nbformat": 4,
    "colab": {
      "provenance": []
    }
  },
  "nbformat": 4,
  "nbformat_minor": 0
}